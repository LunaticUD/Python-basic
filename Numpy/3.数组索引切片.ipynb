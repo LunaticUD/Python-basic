{
 "cells": [
  {
   "cell_type": "code",
   "execution_count": null,
   "metadata": {
    "collapsed": true
   },
   "outputs": [],
   "source": [
    "import numpy as np\n",
    "np.random.seed(0)\n",
    "x1 = np.random.randint(10,size=6)\n",
    "x2 = np.random.randint(5,size=(2,3))\n",
    "x3 = np.random.randint(5,size=(2,3,4))"
   ]
  },
  {
   "cell_type": "code",
   "execution_count": null,
   "outputs": [],
   "source": [
    "#TODO: 数组的索引\n",
    "# 等同与列表\n",
    "## 获取值\n",
    "print(x1[0],x2[1][1],x3[-1][-2])\n",
    "print(x1[0],x2[1,1],x3[-1,-2])\n",
    "## 修改值\n",
    "x2[1,1] = 5\n",
    "print(x2[1,1])\n",
    "## 自动截断\n",
    "x2[1,1] = 5.533333\n",
    "print(x2[1,1])\n",
    "print(x2)"
   ],
   "metadata": {
    "collapsed": false
   }
  },
  {
   "cell_type": "code",
   "execution_count": null,
   "outputs": [],
   "source": [
    "#TODO: 数组的切片\n",
    "# 等同与列表\n",
    "# 一维\n",
    "print(x1)\n",
    "print(x1[:3])\n",
    "print(x1[1:4:2])"
   ],
   "metadata": {
    "collapsed": false
   }
  },
  {
   "cell_type": "code",
   "execution_count": null,
   "outputs": [],
   "source": [
    "# 多维\n",
    "print(x2)\n",
    "print(x3)\n",
    "print(x2[:1,:2])\n",
    "print(x3[:1,:2,:3])\n",
    "print(x3[::-1,::-1,::-1])"
   ],
   "metadata": {
    "collapsed": false
   }
  },
  {
   "cell_type": "code",
   "execution_count": null,
   "outputs": [],
   "source": [
    "print(x2[:,0])  # 第一列\n",
    "print(x2[0,:])  # 第一行"
   ],
   "metadata": {
    "collapsed": false
   }
  },
  {
   "cell_type": "code",
   "execution_count": null,
   "outputs": [],
   "source": [
    "x2[0][0] = 99\n",
    "print(x2)   # 此时返回的是一个视图\n",
    "y = x2.copy()   # 创建的是一个副本\n",
    "print(y)\n",
    "y[1][1] = 111\n",
    "print(y)\n",
    "print(x2)"
   ],
   "metadata": {
    "collapsed": false
   }
  },
  {
   "cell_type": "code",
   "execution_count": null,
   "outputs": [],
   "source": [],
   "metadata": {
    "collapsed": false
   }
  }
 ],
 "metadata": {
  "kernelspec": {
   "display_name": "Python 3",
   "language": "python",
   "name": "python3"
  },
  "language_info": {
   "codemirror_mode": {
    "name": "ipython",
    "version": 2
   },
   "file_extension": ".py",
   "mimetype": "text/x-python",
   "name": "python",
   "nbconvert_exporter": "python",
   "pygments_lexer": "ipython2",
   "version": "2.7.6"
  }
 },
 "nbformat": 4,
 "nbformat_minor": 0
}
