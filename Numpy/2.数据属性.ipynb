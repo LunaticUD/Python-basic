{
 "cells": [
  {
   "cell_type": "code",
   "execution_count": 14,
   "metadata": {
    "collapsed": true
   },
   "outputs": [
    {
     "name": "stdout",
     "output_type": "stream",
     "text": [
      "1 2 3\n",
      "[5 0 3 3 7 9] [[3 2 4]\n",
      " [0 0 4]] [[[2 1 0 1]\n",
      "  [1 0 1 4]\n",
      "  [3 0 3 0]]\n",
      "\n",
      " [[2 3 0 1]\n",
      "  [3 3 3 0]\n",
      "  [1 1 1 0]]]\n",
      "(6,) (2, 3) (2, 3, 4)\n",
      "6 6 24\n",
      "int32 int32 int32\n",
      "4 4 4\n",
      "24 24 96\n"
     ]
    }
   ],
   "source": [
    "import numpy as np\n",
    "np.random.seed(0)\n",
    "x1 = np.random.randint(10,size=6)\n",
    "x2 = np.random.randint(5,size=(2,3))\n",
    "x3 = np.random.randint(5,size=(2,3,4))\n",
    "# 维度\n",
    "print(x1.ndim,x2.ndim,x3.ndim)\n",
    "# 每组每个维度的大小\n",
    "print(x1,x2,x3)\n",
    "print(x1.shape,x2.shape,x3.shape)\n",
    "# 数组的总大小 ——> 每组每个维度大小的累乘\n",
    "print(x1.size,x2.size,x3.size)\n",
    "# 数组的类型\n",
    "print(x1.dtype,x2.dtype,x3.dtype)\n",
    "# 每个数组元素字节大小 ——> 整数为4，浮点数为8\n",
    "print(x1.itemsize,x2.itemsize,x3.itemsize)\n",
    "# 数组的总字节大小 ——> 数组的总大小与每个数组元素字节大小相乘\n",
    "print(x1.nbytes,x2.nbytes,x3.nbytes)"
   ]
  }
 ],
 "metadata": {
  "kernelspec": {
   "display_name": "Python 3",
   "language": "python",
   "name": "python3"
  },
  "language_info": {
   "codemirror_mode": {
    "name": "ipython",
    "version": 2
   },
   "file_extension": ".py",
   "mimetype": "text/x-python",
   "name": "python",
   "nbconvert_exporter": "python",
   "pygments_lexer": "ipython2",
   "version": "2.7.6"
  }
 },
 "nbformat": 4,
 "nbformat_minor": 0
}
