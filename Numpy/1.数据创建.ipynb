{
 "cells": [
  {
   "cell_type": "code",
   "execution_count": 34,
   "metadata": {
    "collapsed": true
   },
   "outputs": [],
   "source": [
    "# Numpy是对数组的操作，列表与数组的区别在于，\n",
    "# 列表的每一项都是一个对象，指向判断这个项是什么类型和位置，而数组的每一项指向的是一个已知类型的项，且这个项的类型是固定的"
   ]
  },
  {
   "cell_type": "code",
   "execution_count": 35,
   "outputs": [],
   "source": [
    "# import numpy\n",
    "# numpy.array(object, dtype=None, *, copy=True, order='K', subok=False, ndmin=0, like=None)"
   ],
   "metadata": {
    "collapsed": false
   }
  },
  {
   "cell_type": "code",
   "execution_count": 36,
   "outputs": [
    {
     "name": "stdout",
     "output_type": "stream",
     "text": [
      "array('i', [1, 2, 3, 4, 5, 6, 7, 8, 9])\n"
     ]
    }
   ],
   "source": [
    "# 通过内置模块创建一个数组\n",
    "import array\n",
    "L = list(range(1,10))\n",
    "print(array.array('i',L))"
   ],
   "metadata": {
    "collapsed": false
   }
  },
  {
   "cell_type": "code",
   "execution_count": 37,
   "outputs": [
    {
     "name": "stdout",
     "output_type": "stream",
     "text": [
      "[1 2 3 4 5 6 7 8 9]\n",
      "[3.1415926 6.        9.        8.        6.       ]\n",
      "[[1 2 3]\n",
      " [4 5 6]\n",
      " [7 8 9]]\n"
     ]
    }
   ],
   "source": [
    "# 通过Python列表创建一个数组\n",
    "import numpy as np\n",
    "print(np.array([1,2,3,4,5,6,7,8,9]))\n",
    "print(np.array([3.1415926,6,9,8,6]))\n",
    "print(np.array([[1,2,3],[4,5,6],[7,8,9]]))"
   ],
   "metadata": {
    "collapsed": false
   }
  },
  {
   "cell_type": "code",
   "execution_count": 38,
   "outputs": [
    {
     "name": "stdout",
     "output_type": "stream",
     "text": [
      "[0 0 0 0 0 0 0 0 0]\n",
      "[0 0 0]\n",
      "[[0 0 0]]\n",
      "[[0 0 0]\n",
      " [0 0 0]\n",
      " [0 0 0]]\n",
      "[0. 0. 0. 0. 0. 0. 0. 0. 0.]\n",
      "[1 1 1 1 1 1 1 1 1]\n",
      "[1 1 1]\n",
      "[[1 1 1]]\n",
      "[[1 1 1]\n",
      " [1 1 1]\n",
      " [1 1 1]]\n",
      "[1. 1. 1. 1. 1. 1. 1. 1. 1.]\n",
      "[1 1 1 1 1 1 1 1 1]\n",
      "[2 2 2]\n",
      "[[2 2 2]]\n",
      "[[2 2 2]\n",
      " [2 2 2]\n",
      " [2 2 2]]\n",
      "[3. 3. 3. 3. 3. 3. 3. 3. 3.]\n",
      "[ 9 10 11]\n",
      "[ 9. 10. 11. 12. 13. 14. 15. 16. 17. 18. 19.]\n",
      "[0.  0.2 0.4 0.6 0.8 1. ]\n",
      "[[0.56343868 0.81079709 0.20710816 0.77290485]\n",
      " [0.88192932 0.34964067 0.78354505 0.1860158 ]\n",
      " [0.52420292 0.60593281 0.50011832 0.32157877]]\n",
      "[0.88152986 0.12067935 0.16949882]\n",
      "[[-0.62437994 -0.18064985 -0.35765015 -0.38879569]\n",
      " [-0.12246466 -0.21340388  0.28366744 -0.18085761]\n",
      " [-1.34640266 -0.75272859  0.08302981 -0.56446151]]\n",
      "[[24.74296503 14.18964563 26.00362775]\n",
      " [18.32789842 19.91516959 22.58245334]\n",
      " [20.8422788  21.9811531  30.05721312]]\n",
      "[ 1.886146   -0.94330768  0.1132451 ]\n",
      "[[0 5 5]\n",
      " [5 7 9]\n",
      " [7 7 0]]\n",
      "[[1 0 0 0 0]\n",
      " [0 1 0 0 0]\n",
      " [0 0 1 0 0]\n",
      " [0 0 0 1 0]\n",
      " [0 0 0 0 1]]\n",
      "[[1. 0. 0. 0. 0.]\n",
      " [0. 1. 0. 0. 0.]\n",
      " [0. 0. 1. 0. 0.]\n",
      " [0. 0. 0. 1. 0.]\n",
      " [0. 0. 0. 0. 1.]]\n",
      "[ 1.886146   -0.94330768  0.1132451 ]\n",
      "[0 5 5 5 7 9 7 7 0]\n",
      "[[24.74296503 14.18964563 26.00362775]\n",
      " [18.32789842 19.91516959 22.58245334]\n",
      " [20.8422788  21.9811531  30.05721312]]\n"
     ]
    }
   ],
   "source": [
    "# 从头创建数组\n",
    "# 创建一个值都为0的数组\n",
    "print(np.zeros(9,dtype='int'))\n",
    "print(np.zeros((3,),dtype='int'))\n",
    "print(np.zeros((1,3),dtype='int'))\n",
    "print(np.zeros((3,3),dtype='int'))\n",
    "print(np.zeros(9,dtype='float'))\n",
    "# 创建一个值都为0的数组\n",
    "print(np.ones(9,dtype='int'))\n",
    "print(np.ones((3,),dtype='int'))\n",
    "print(np.ones((1,3),dtype='int'))\n",
    "print(np.ones((3,3),dtype='int'))\n",
    "print(np.ones(9,dtype='float'))\n",
    "# 创建一个值是任意的数组\n",
    "print(np.full(9,1,dtype='int'))\n",
    "print(np.full((3,),2,dtype='int'))\n",
    "print(np.full((1,3),2,dtype='int'))\n",
    "print(np.full((3,3),2,dtype='int'))\n",
    "print(np.full(9,3,dtype='float'))\n",
    "# 创建一个值是线性序列的数组\n",
    "print(np.arange(9,12,dtype='int'))\n",
    "print(np.arange(9,20,dtype='float'))\n",
    "# 均匀分配到的数组\n",
    "print(np.linspace(0,1,6))\n",
    "# 0-1随机组成的数组\n",
    "print(np.random.random((3,4)))\n",
    "print(np.random.random(3))\n",
    "# 正态分布数组，均值为0，方差为1的\n",
    "print(np.random.normal(0,1,(3,4)))\n",
    "print(np.random.normal(20,5,(3,3)))\n",
    "print(np.random.normal(0,1,3))\n",
    "# 整数数组\n",
    "print(np.random.randint(0,10,(3,3),dtype='int'))\n",
    "# print(np.random.randint(0,10,(3,3),dtype='float64'))  ## 报错\n",
    "# 单位矩阵\n",
    "print(np.eye(5,dtype='int'))\n",
    "print(np.eye(5,dtype='float'))\n",
    "# 未初始化的数组\n",
    "print(np.empty(3))\n",
    "print(np.empty(9,dtype='int'))\n",
    "print(np.empty((3,3),dtype='float'))"
   ],
   "metadata": {
    "collapsed": false
   }
  }
 ],
 "metadata": {
  "kernelspec": {
   "display_name": "Python 3",
   "language": "python",
   "name": "python3"
  },
  "language_info": {
   "codemirror_mode": {
    "name": "ipython",
    "version": 2
   },
   "file_extension": ".py",
   "mimetype": "text/x-python",
   "name": "python",
   "nbconvert_exporter": "python",
   "pygments_lexer": "ipython2",
   "version": "2.7.6"
  }
 },
 "nbformat": 4,
 "nbformat_minor": 0
}
